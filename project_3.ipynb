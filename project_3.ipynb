{
 "cells": [
  {
   "cell_type": "markdown",
   "id": "b8b1d8fc-a4b0-477f-a36e-9a394c4e6266",
   "metadata": {
    "jp-MarkdownHeadingCollapsed": true,
    "tags": []
   },
   "source": [
    "# Project: Rank Tweets by Kindness\n",
    "\n",
    "**Sentiment Analysis**: Social media can be a great place to connect with others and share positive thoughts and experiences. However, it can also be a breeding ground for negativity and hate speech. This project aims to develop a system to rank tweets by kindness in order to promote more positive and supportive online interactions.\n",
    "\n",
    "**Benefits:**\n",
    "\n",
    "The proposed system has the potential to provide a number of benefits, including:\n",
    "\n",
    "- Promoting more positive and supportive online interactions\n",
    "- Reducing the spread of negativity and hate speech\n",
    "- Helping people to find and connect with others who share their values\n",
    "- Making social media a more enjoyable and welcoming place for everyone\n",
    "\n",
    "**Tasks:**\n",
    "\n",
    "The proposed system will use sentiment analysis to identify and rank tweets based on their level of kindness. This will be done by the following steps:\n",
    "\n",
    "1. Read the `nice_words.txt` file into a list. This file will contain a list of words that are typically associated with kindness, such as \"love,\" \"compassion,\" and \"gratitude.\"\n",
    "1. Read the `tweets.txt` file into a tweets list. This file will contain a collection of tweets to be ranked.\n",
    "1. Look at each of the tweets and count the number of nice words.\n",
    "1. Sort the tweets in descending order based on the number of nice words, with the most kind tweet first.\n",
    "1. Display the tweets, along with the count of nice words in each tweet.\n",
    "\n",
    "```\n",
    "sample tweets:\n",
    "[\n",
    "    \"great and awesome\",\n",
    "    \"what a good day\"\n",
    "]\n",
    "sample output:\n",
    "[\n",
    "    (\"great and awesome\", 2),\n",
    "    (\"what a good day\", 1),\n",
    "]\n",
    "```"
   ]
  },
  {
   "cell_type": "code",
   "execution_count": null,
   "id": "8cd02a8c",
   "metadata": {},
   "outputs": [],
   "source": []
  },
  {
   "cell_type": "code",
   "execution_count": 2,
   "id": "63fd50b5",
   "metadata": {},
   "outputs": [
    {
     "name": "stdout",
     "output_type": "stream",
     "text": [
      "The kind and generous old man was always willing to help others . He was a role model for the entire community and he was loved by everyone: 5\n",
      "The intelligent and talented young woman had a bright future ahead of her . She was passionate about her work and she was determined to make a difference in the world: 5\n",
      "The beautiful flowers were in full bloom and the sweet scent filled the air . The birds were singing merrily and the sun was shining brightly . It was a perfect day: 3\n",
      "Sending out good vibes to everyone today! Have a beautiful day!: 3\n",
      "Grateful for the amazing people in my life who make it so wonderful: 2\n"
     ]
    }
   ],
   "source": [
    "def rank_tweets():\n",
    "    # Step 1: Read nice_words.txt into a list\n",
    "    with open('nice_words_v2.txt', 'r') as file:\n",
    "        nice_words = file.read().splitlines()\n",
    "\n",
    "    # Step 2: Read tweets.txt into a tweets list\n",
    "    with open('tweets.txt', 'r') as file:\n",
    "        tweets = file.read().splitlines()\n",
    "\n",
    "    # Step 3: Count the number of nice words in each tweet\n",
    "    tweet_scores = []\n",
    "    for tweet in tweets:\n",
    "        nice_word_count = sum(1 for word in tweet.split() if word in nice_words)\n",
    "        tweet_scores.append((tweet, nice_word_count))\n",
    "\n",
    "    # Step 4: Sort the tweets based on the number of nice words\n",
    "    \n",
    "    tweet_scores.sort(key=lambda x: x[1], reverse=True)\n",
    "\n",
    "    # Step 5: Display the tweets and their nice word counts\n",
    "    for tweet, score in tweet_scores:\n",
    "        print(f\"{tweet}: {score}\")\n",
    "\n",
    "# Call the function to rank the tweets\n",
    "rank_tweets()"
   ]
  },
  {
   "cell_type": "code",
   "execution_count": null,
   "id": "f9b25ba6",
   "metadata": {},
   "outputs": [],
   "source": []
  }
 ],
 "metadata": {
  "kernelspec": {
   "display_name": "Python 3 (ipykernel)",
   "language": "python",
   "name": "python3"
  },
  "language_info": {
   "codemirror_mode": {
    "name": "ipython",
    "version": 3
   },
   "file_extension": ".py",
   "mimetype": "text/x-python",
   "name": "python",
   "nbconvert_exporter": "python",
   "pygments_lexer": "ipython3",
   "version": "3.11.1"
  }
 },
 "nbformat": 4,
 "nbformat_minor": 5
}
