{
 "cells": [
  {
   "cell_type": "markdown",
   "id": "963797a4-2452-4a99-aa97-780c9f626b4d",
   "metadata": {},
   "source": [
    "# Project: Pair and Distribute"
   ]
  },
  {
   "cell_type": "markdown",
   "id": "a843d3ca-a86d-482c-872c-2b3503e231ed",
   "metadata": {},
   "source": [
    "### Q1: Pair Peers\n",
    "\n",
    "**Problem:** given a list of tuples representing `(name, age)` of each person. Pair people such that the age difference is minimized.\n",
    "\n",
    "```\n",
    "# Test Case:\n",
    "input: [(\"Ahmad\", 10), (\"Belal\", 30), (\"Camal\", 29), (\"Dalal\", 11)]\n",
    "output: [(\"Ahmad\", \"Dalal\"), (\"Camal\", \"Belal\")]\n",
    "```\n"
   ]
  },
  {
   "cell_type": "code",
   "execution_count": null,
   "id": "e9b658d1-2151-4c76-b740-e86390235ff3",
   "metadata": {
    "tags": []
   },
   "outputs": [],
   "source": [
    "def pair_people(people):\n",
    "    # your code here...\n",
    "    #return pairs"
   ]
  },
  {
   "cell_type": "code",
   "execution_count": 11,
   "id": "eb26e999",
   "metadata": {},
   "outputs": [],
   "source": [
    "def pair_people(people):\n",
    "    min_age_diff = None\n",
    "    pairs = []\n",
    "\n",
    "    for i in range(len(people)):\n",
    "        for j in range(i+1, len(people)):\n",
    "            age_diff = abs(people[i][1] - people[j][1])\n",
    "\n",
    "            if min_age_diff is None or age_diff < min_age_diff:\n",
    "                min_age_diff = age_diff\n",
    "                pairs = [(people[i][0], people[j][0])]\n",
    "            elif age_diff == min_age_diff:\n",
    "                pairs.append((people[i][0], people[j][0]))\n",
    "\n",
    "    return pairs"
   ]
  },
  {
   "cell_type": "code",
   "execution_count": 12,
   "id": "9330be2f-6ce0-4df8-a615-759323073ae5",
   "metadata": {
    "tags": []
   },
   "outputs": [
    {
     "name": "stdout",
     "output_type": "stream",
     "text": [
      "[('Ahmad', 'Dalal'), ('Belal', 'Camal')]\n"
     ]
    }
   ],
   "source": [
    "# Test your code:\n",
    "people = [(\"Ahmad\", 10), (\"Belal\", 30), (\"Camal\", 29), (\"Dalal\", 11)]\n",
    "pairs = pair_people(people)\n",
    "print(pairs)"
   ]
  },
  {
   "cell_type": "code",
   "execution_count": null,
   "id": "90786c1f",
   "metadata": {},
   "outputs": [],
   "source": []
  },
  {
   "cell_type": "markdown",
   "id": "6650c99a-6227-4565-b9fa-dfc393be338a",
   "metadata": {},
   "source": [
    "### Q2: Distribute\n",
    "\n",
    "**Problem:** distribute students to groups.\n",
    "\n",
    "```\n",
    "# Test Case:\n",
    "inputs:\n",
    "    students = [\"Ahmad\", \"Belal\", \"Camal\", \"Dalal\", \"Emad\", \"Firdaus\"]\n",
    "    num_groups = 3\n",
    "possible output: [(\"Ahmad\", \"Belal\"), (\"Camal\", \"Emad\"), (\"Dalal\", \"Firdaus\")]\n",
    "```"
   ]
  },
  {
   "cell_type": "code",
   "execution_count": null,
   "id": "6039f357-0c47-4651-bc93-3cdf120b72e2",
   "metadata": {
    "tags": []
   },
   "outputs": [],
   "source": [
    "import random\n",
    "students = [\"Ahmad\", \"Belal\", \"Camal\", \"Dalal\", \"Emad\", \"Firdaus\"]\n",
    "num_groups = 3\n",
    "## your code below this block vvv"
   ]
  },
  {
   "cell_type": "code",
   "execution_count": 2,
   "id": "701754db-9daf-4bfd-b897-739f9f710cff",
   "metadata": {},
   "outputs": [
    {
     "name": "stdout",
     "output_type": "stream",
     "text": [
      "the groups will not be equal \n",
      "[['Ahmad', 'Belal', 'Camal', 'Dalal'], ['Emad', 'Firdaus', 'sara']]\n"
     ]
    }
   ],
   "source": [
    "\n",
    "import math\n",
    "\n",
    "def distribute_students(students, num_groups):\n",
    "    students_per_group = math.ceil(len(students) / num_groups)\n",
    "    groups = []\n",
    "    #if len(students) % num_groups == 0:\n",
    "\n",
    "    if not isinstance((len(students) / num_groups),int):\n",
    "      print ('the groups will not be equal ')\n",
    "\n",
    "    for i in range(0, len(students), students_per_group):\n",
    "        group = students[i:i+students_per_group]\n",
    "        groups.append(group)\n",
    "    return groups\n",
    "\n",
    "# Test case\n",
    "students = [\"Ahmad\", \"Belal\", \"Camal\", \"Dalal\", \"Emad\", \"Firdaus\",'sara']\n",
    "num_groups = 2\n",
    "\n",
    "result = distribute_students(students, num_groups)\n",
    "print(result)\n"
   ]
  },
  {
   "cell_type": "code",
   "execution_count": null,
   "id": "7033462b-6d06-47b7-9149-457f9216ea39",
   "metadata": {},
   "outputs": [],
   "source": [
    "# your code above this block ^^^"
   ]
  },
  {
   "cell_type": "code",
   "execution_count": null,
   "id": "c5f66e73-e2a4-4781-bdff-f4ca81f6b1e7",
   "metadata": {},
   "outputs": [],
   "source": [
    "# Test your code:\n",
    "print(len(groups) == num_groups)\n",
    "for g in groups:\n",
    "    print(len(g) == len(students) / num_groups)"
   ]
  }
 ],
 "metadata": {
  "kernelspec": {
   "display_name": "Python 3 (ipykernel)",
   "language": "python",
   "name": "python3"
  },
  "language_info": {
   "codemirror_mode": {
    "name": "ipython",
    "version": 3
   },
   "file_extension": ".py",
   "mimetype": "text/x-python",
   "name": "python",
   "nbconvert_exporter": "python",
   "pygments_lexer": "ipython3",
   "version": "3.11.1"
  }
 },
 "nbformat": 4,
 "nbformat_minor": 5
}
