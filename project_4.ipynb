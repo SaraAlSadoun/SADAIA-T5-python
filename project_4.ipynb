{
 "cells": [
  {
   "cell_type": "markdown",
   "id": "cd0bf72c",
   "metadata": {},
   "source": [
    "Group 4 \n",
    "\n",
    "- Maisaa Alhulimi \n",
    "- Sara Alsadon  \n",
    "- Amjad Abdullah  "
   ]
  },
  {
   "cell_type": "markdown",
   "id": "9a2746c7-cd3f-4edf-88a3-8c71e3f959d3",
   "metadata": {
    "tags": []
   },
   "source": [
    "# Project: Find the Best Match\n",
    "\n",
    "**Recommendation**: Develop a system to match people and companies based on their skills, using a recommendation algorithm. This system can be used to help people find jobs that match their skills and interests, and to help companies find qualified employees. The system can also be used to increase job satisfaction and productivity, and to reduce hiring costs and time to hire.\n",
    "\n",
    "Find the best match between people and companies based on their skills.\n",
    "\n",
    "**Benefits:**\n",
    "\n",
    "* Help people find jobs that match their skills and interests.\n",
    "* Help companies find qualified employees.\n",
    "* Increase job satisfaction and productivity.\n",
    "* Reduce hiring costs and time to hire.\n",
    "\n",
    "**Tasks:**\n",
    "\n",
    "1. implement class `Person`\n",
    "1. implement class `Company`\n",
    "1. implement function `calculate_matching_score`\n",
    "1. For each person, calculate matching score with all companies\n",
    "1. Pick the best company for each person"
   ]
  },
  {
   "cell_type": "code",
   "execution_count": 1,
   "id": "42eb4a42-68a3-4613-a75c-90790c231013",
   "metadata": {
    "tags": []
   },
   "outputs": [],
   "source": [
    "class Person:\n",
    "    def __init__(self, name, skills):\n",
    "        self.name = name\n",
    "        self.skills = skills"
   ]
  },
  {
   "cell_type": "code",
   "execution_count": 2,
   "id": "a8b97740-6b40-4461-972a-bd6bf82a2a16",
   "metadata": {},
   "outputs": [],
   "source": [
    "class Company:\n",
    "    def __init__(self, name, required_skills):\n",
    "        self.name = name\n",
    "        self.required_skills = required_skills"
   ]
  },
  {
   "cell_type": "code",
   "execution_count": 3,
   "id": "80df7ffc-1a1f-4645-a08a-049965308bff",
   "metadata": {},
   "outputs": [],
   "source": [
    "def calculate_matching_score(person, company):\n",
    "    # Calculate a matching score based on skills similarity.\n",
    "    common_skills = set(person.skills) & set(company.required_skills)\n",
    "    matching_score = len(common_skills) / len(person.skills)\n",
    "    return matching_score"
   ]
  },
  {
   "cell_type": "code",
   "execution_count": 4,
   "id": "4855555f",
   "metadata": {},
   "outputs": [],
   "source": [
    "def find_best_match(people, companies):\n",
    "    best_matches = {}  # Dictionary to store the best company for each person\n",
    "\n",
    "    for person in people:\n",
    "        best_match = None\n",
    "        highest_score = 0\n",
    "\n",
    "        for company in companies:\n",
    "            score = calculate_matching_score(person, company)\n",
    "            if score > highest_score:\n",
    "                highest_score = score\n",
    "                best_match = company\n",
    "\n",
    "        best_matches[person.name] = (best_match.name, highest_score)\n",
    "\n",
    "    return best_matches"
   ]
  },
  {
   "cell_type": "code",
   "execution_count": 14,
   "id": "23c164f9-212f-465f-8e80-b69008b5e94b",
   "metadata": {
    "tags": []
   },
   "outputs": [
    {
     "name": "stdout",
     "output_type": "stream",
     "text": [
      "-Name : Alice  -Company : Alibaba -Score : 1.0\n",
      "-Name : Alice  -Company : Baidu -Score : 0.0\n",
      "-Name : Alice  -Company : Comaro -Score : 0.0\n",
      "-Name : Bob  -Company : Alibaba -Score : 0.0\n",
      "-Name : Bob  -Company : Baidu -Score : 1.0\n",
      "-Name : Bob  -Company : Comaro -Score : 0.0\n",
      "-Name : Carol  -Company : Alibaba -Score : 0.0\n",
      "-Name : Carol  -Company : Baidu -Score : 0.0\n",
      "-Name : Carol  -Company : Comaro -Score : 1.0\n"
     ]
    }
   ],
   "source": [
    "# Create a list of people.\n",
    "people = [\n",
    "    Person(\"Alice\", [\"Python\", \"Java\"]),\n",
    "    Person(\"Bob\", [\"C++\", \"C#\"]),\n",
    "    Person(\"Carol\", [\"JavaScript\", \"TypeScript\"]),\n",
    "]\n",
    "\n",
    "# Create a list of companies.\n",
    "companies = [\n",
    "    Company(\"Alibaba\", [\"Python\", \"Java\"]),\n",
    "    Company(\"Baidu\", [\"C++\", \"C#\"]),\n",
    "    Company(\"Comaro\", [\"JavaScript\", \"TypeScript\"]),\n",
    "]\n",
    "for p in people  :\n",
    "    for c in companies:\n",
    "     print ('-Name :',p.name,' -Company :',c.name,'-Score :',calculate_matching_score(p,c))\n",
    "     #print ()"
   ]
  },
  {
   "cell_type": "code",
   "execution_count": 6,
   "id": "cd64a824-50e4-4019-9408-fbc8f4eff27c",
   "metadata": {
    "tags": []
   },
   "outputs": [
    {
     "name": "stdout",
     "output_type": "stream",
     "text": [
      "Alice is best matched with Alibaba (Matching Score: 1.00)\n",
      "Bob is best matched with Baidu (Matching Score: 1.00)\n",
      "Carol is best matched with Comaro (Matching Score: 1.00)\n"
     ]
    }
   ],
   "source": [
    "best_matches = find_best_match(people, companies)\n",
    "\n",
    "for person_name, (company_name, score) in best_matches.items():\n",
    "        print(f\"{person_name} is best matched with {company_name} (Matching Score: {score:.2f})\")\n"
   ]
  }
 ],
 "metadata": {
  "kernelspec": {
   "display_name": "Python 3 (ipykernel)",
   "language": "python",
   "name": "python3"
  },
  "language_info": {
   "codemirror_mode": {
    "name": "ipython",
    "version": 3
   },
   "file_extension": ".py",
   "mimetype": "text/x-python",
   "name": "python",
   "nbconvert_exporter": "python",
   "pygments_lexer": "ipython3",
   "version": "3.11.1"
  }
 },
 "nbformat": 4,
 "nbformat_minor": 5
}
