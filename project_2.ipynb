{
 "cells": [
  {
   "cell_type": "markdown",
   "id": "b76ec0c7",
   "metadata": {},
   "source": [
    "Group 4 \n",
    "\n",
    "- Maisaa Alhulimi \n",
    "- Sara Alsadon  \n",
    "- Amjad Abdullah  "
   ]
  },
  {
   "cell_type": "markdown",
   "id": "43088f87-506c-4393-9068-57cbedb75166",
   "metadata": {
    "jp-MarkdownHeadingCollapsed": true,
    "tags": []
   },
   "source": [
    "# Project: Understand Customers\n",
    "\n",
    "**Data exploration**: The data will be explored to understand the distribution of customer characteristics. This will include calculating the mean age of customers, the age range of female and male customers, the most common first name, and the least common last name.\n",
    "\n",
    "**Benefits**:\n",
    "\n",
    "The results of this project can be used by businesses to:\n",
    "\n",
    "- Understand their customers better\n",
    "- Develop more effective marketing strategies\n",
    "- Target their products and services to the right customers\n",
    "- Increase customer loyalty\n",
    "\n",
    "**Tasks**:\n",
    "\n",
    "Please read the `customers.csv` file to use as your dataset to explore the following:\n",
    "\n",
    "1. the mean age of customers\n",
    "1. the age range of female customers (min and max)\n",
    "1. the age range of male customers (min and max)\n",
    "1. the most common first name\n",
    "1. the least common last name\n",
    "\n"
   ]
  },
  {
   "cell_type": "code",
   "execution_count": 2,
   "id": "0ddb45be",
   "metadata": {},
   "outputs": [
    {
     "name": "stdout",
     "output_type": "stream",
     "text": [
      "The mean age of customers is: 27.56\n",
      "The age range of female customers is: 18.0 to 46.0\n",
      "The age range of male customers is: 12.0 to 40.0\n",
      "The most common first name is: Roger\n",
      "The least common last name is: Dukins\n"
     ]
    }
   ],
   "source": [
    "import pandas as pd\n",
    "from datetime import datetime\n",
    "\n",
    "# Read the customers.csv file into a DataFrame\n",
    "df = pd.read_csv('customers.csv')\n",
    "\n",
    "# Calculate the mean age of customers\n",
    "current_date = datetime.now()\n",
    "df['date_of_birth'] = pd.to_datetime(df['date_of_birth'])  # Convert date_of_birth column to datetime\n",
    "df['age'] = (current_date - df['date_of_birth']).astype('<m8[Y]')  # Calculate age based on current date\n",
    "\n",
    "mean_age = df['age'].mean()\n",
    "print(f\"The mean age of customers is: {mean_age}\")\n",
    "\n",
    "# Filter the DataFrame for female customers and calculate the age range\n",
    "female_customers = df[df['gender'] == 'F']\n",
    "min_age_female = female_customers['age'].min()\n",
    "max_age_female = female_customers['age'].max()\n",
    "print(f\"The age range of female customers is: {min_age_female} to {max_age_female}\")\n",
    "\n",
    "# Filter the DataFrame for male customers and calculate the age range\n",
    "male_customers = df[df['gender'] == 'M']\n",
    "min_age_male = male_customers['age'].min()\n",
    "max_age_male = male_customers['age'].max()\n",
    "print(f\"The age range of male customers is: {min_age_male} to {max_age_male}\")\n",
    "\n",
    "# Find the most common first name\n",
    "most_common_first_name = df['first_name'].value_counts().idxmax()\n",
    "print(f\"The most common first name is: {most_common_first_name}\")\n",
    "\n",
    "# Find the least common last name\n",
    "least_common_last_name = df['last_name'].value_counts().idxmin()\n",
    "print(f\"The least common last name is: {least_common_last_name}\")"
   ]
  },
  {
   "cell_type": "code",
   "execution_count": 5,
   "id": "fffa27c8",
   "metadata": {},
   "outputs": [
    {
     "name": "stdout",
     "output_type": "stream",
     "text": [
      "The mean age of customers is: 27.56\n",
      "The age range of female customers is: 0 to 0\n",
      "The age range of male customers is: 0 to 0\n",
      "The most common first name is: Roger\n",
      "The least common last name is: Stewart\n"
     ]
    }
   ],
   "source": [
    "import os\n",
    "from datetime import datetime\n",
    "\n",
    "def calculate_age(date_of_birth):\n",
    "    current_date = datetime.now()\n",
    "    age = current_date.year - date_of_birth.year\n",
    "    if (current_date.month, current_date.day) < (date_of_birth.month, date_of_birth.day):\n",
    "        age -= 1\n",
    "    return age\n",
    "\n",
    "# Define the path to the customers.csv file\n",
    "file_path = 'customers.csv'\n",
    "\n",
    "# Read the CSV file and store the data in a list of dictionaries\n",
    "data = []\n",
    "with open(file_path, 'r') as file:\n",
    "    lines = file.readlines()\n",
    "    header = lines[0].strip().split(',')\n",
    "    for line in lines[1:]:\n",
    "        values = line.strip().split(',')\n",
    "        record = dict(zip(header, values))\n",
    "        data.append(record)\n",
    "\n",
    "# Calculate the mean age of customers\n",
    "current_date = datetime.now()\n",
    "total_age = 0\n",
    "valid_records = 0\n",
    "for record in data:\n",
    "    date_of_birth = datetime.strptime(record['date_of_birth'], '%Y-%m-%d')\n",
    "    age = calculate_age(date_of_birth)\n",
    "    if age >= 0:\n",
    "        total_age += age\n",
    "        valid_records += 1\n",
    "\n",
    "mean_age = total_age / valid_records if valid_records > 0 else 0\n",
    "print(f\"The mean age of customers is: {mean_age}\")\n",
    "\n",
    "# Filter the records for female customers and calculate the age range\n",
    "female_records = [record for record in data if record['gender'] == 'Female']\n",
    "female_ages = [calculate_age(datetime.strptime(record['date_of_birth'], '%Y-%m-%d')) for record in female_records]\n",
    "min_age_female = min(female_ages) if female_ages else 0\n",
    "max_age_female = max(female_ages) if female_ages else 0\n",
    "print(f\"The age range of female customers is: {min_age_female} to {max_age_female}\")\n",
    "\n",
    "# Filter the records for male customers and calculate the age range\n",
    "male_records = [record for record in data if record['gender'] == 'Male']\n",
    "male_ages = [calculate_age(datetime.strptime(record['date_of_birth'], '%Y-%m-%d')) for record in male_records]\n",
    "min_age_male = min(male_ages) if male_ages else 0\n",
    "max_age_male = max(male_ages) if male_ages else 0\n",
    "print(f\"The age range of male customers is: {min_age_male} to {max_age_male}\")\n",
    "\n",
    "# Find the most common first name\n",
    "first_names = [record['first_name'] for record in data]\n",
    "most_common_first_name = max(set(first_names), key=first_names.count) if first_names else ''\n",
    "print(f\"The most common first name is: {most_common_first_name}\")\n",
    "\n",
    "# Find the least common last name\n",
    "last_names = [record['last_name'] for record in data]\n",
    "least_common_last_name = min(set(last_names), key=last_names.count) if last_names else ''\n",
    "print(f\"The least common last name is: {least_common_last_name}\")"
   ]
  },
  {
   "cell_type": "code",
   "execution_count": null,
   "id": "be4caddf",
   "metadata": {},
   "outputs": [],
   "source": []
  }
 ],
 "metadata": {
  "kernelspec": {
   "display_name": "Python 3 (ipykernel)",
   "language": "python",
   "name": "python3"
  },
  "language_info": {
   "codemirror_mode": {
    "name": "ipython",
    "version": 3
   },
   "file_extension": ".py",
   "mimetype": "text/x-python",
   "name": "python",
   "nbconvert_exporter": "python",
   "pygments_lexer": "ipython3",
   "version": "3.11.1"
  }
 },
 "nbformat": 4,
 "nbformat_minor": 5
}
